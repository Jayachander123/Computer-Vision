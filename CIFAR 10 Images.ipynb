{
 "cells": [
  {
   "cell_type": "code",
   "execution_count": 1,
   "metadata": {},
   "outputs": [
    {
     "name": "stderr",
     "output_type": "stream",
     "text": [
      "Using TensorFlow backend.\n"
     ]
    },
    {
     "name": "stdout",
     "output_type": "stream",
     "text": [
      "WARNING:tensorflow:From C:\\Users\\Business Intelli\\Anaconda3\\lib\\site-packages\\tensorflow\\python\\framework\\op_def_library.py:263: colocate_with (from tensorflow.python.framework.ops) is deprecated and will be removed in a future version.\n",
      "Instructions for updating:\n",
      "Colocations handled automatically by placer.\n",
      "X_train shape: (50000, 32, 32, 3)\n",
      "50000 train samples\n",
      "10000 test samples\n"
     ]
    }
   ],
   "source": [
    "from keras.datasets import cifar10\n",
    "from keras.utils import np_utils\n",
    "from keras.models import Sequential\n",
    "from keras.layers.core import Dense, Dropout, Activation, Flatten\n",
    "from keras.layers.convolutional import Conv2D, MaxPooling2D\n",
    "from keras.optimizers import SGD, Adam, RMSprop\n",
    "import matplotlib.pyplot as plt\n",
    "\n",
    "# CIFAR_10 is a set of 60K images 32x32 pixels on 3 channels\n",
    "IMG_CHANNELS = 3\n",
    "IMG_ROWS = 32\n",
    "IMG_COLS = 32\n",
    "\n",
    "#constant\n",
    "BATCH_SIZE = 128\n",
    "NB_EPOCH = 20\n",
    "NB_CLASSES = 10\n",
    "VERBOSE = 1\n",
    "VALIDATION_SPLIT = 0.2\n",
    "OPTIM = RMSprop()\n",
    "\n",
    "#load dataset\n",
    "(X_train, y_train), (X_test, y_test) = cifar10.load_data()\n",
    "print('X_train shape:', X_train.shape)\n",
    "print(X_train.shape[0], 'train samples')\n",
    "print(X_test.shape[0], 'test samples')"
   ]
  },
  {
   "cell_type": "code",
   "execution_count": 2,
   "metadata": {},
   "outputs": [],
   "source": [
    "# convert to categorical\n",
    "Y_train = np_utils.to_categorical(y_train, NB_CLASSES)\n",
    "Y_test = np_utils.to_categorical(y_test, NB_CLASSES)\n",
    "\n",
    "# float and normalization\n",
    "X_train = X_train.astype('float32')\n",
    "X_test = X_test.astype('float32')\n",
    "X_train /= 255\n",
    "X_test /= 255"
   ]
  },
  {
   "cell_type": "code",
   "execution_count": 3,
   "metadata": {},
   "outputs": [
    {
     "name": "stdout",
     "output_type": "stream",
     "text": [
      "WARNING:tensorflow:From C:\\Users\\Business Intelli\\Anaconda3\\lib\\site-packages\\keras\\backend\\tensorflow_backend.py:3445: calling dropout (from tensorflow.python.ops.nn_ops) with keep_prob is deprecated and will be removed in a future version.\n",
      "Instructions for updating:\n",
      "Please use `rate` instead of `keep_prob`. Rate should be set to `rate = 1 - keep_prob`.\n",
      "_________________________________________________________________\n",
      "Layer (type)                 Output Shape              Param #   \n",
      "=================================================================\n",
      "conv2d_1 (Conv2D)            (None, 32, 32, 32)        896       \n",
      "_________________________________________________________________\n",
      "activation_1 (Activation)    (None, 32, 32, 32)        0         \n",
      "_________________________________________________________________\n",
      "max_pooling2d_1 (MaxPooling2 (None, 16, 16, 32)        0         \n",
      "_________________________________________________________________\n",
      "dropout_1 (Dropout)          (None, 16, 16, 32)        0         \n",
      "_________________________________________________________________\n",
      "flatten_1 (Flatten)          (None, 8192)              0         \n",
      "_________________________________________________________________\n",
      "dense_1 (Dense)              (None, 512)               4194816   \n",
      "_________________________________________________________________\n",
      "activation_2 (Activation)    (None, 512)               0         \n",
      "_________________________________________________________________\n",
      "dropout_2 (Dropout)          (None, 512)               0         \n",
      "_________________________________________________________________\n",
      "dense_2 (Dense)              (None, 10)                5130      \n",
      "_________________________________________________________________\n",
      "activation_3 (Activation)    (None, 10)                0         \n",
      "=================================================================\n",
      "Total params: 4,200,842\n",
      "Trainable params: 4,200,842\n",
      "Non-trainable params: 0\n",
      "_________________________________________________________________\n"
     ]
    }
   ],
   "source": [
    "# network\n",
    "model = Sequential()\n",
    "model.add(Conv2D(32, (3, 3), padding='same',\n",
    "input_shape=(IMG_ROWS, IMG_COLS, IMG_CHANNELS)))\n",
    "model.add(Activation('relu'))\n",
    "model.add(MaxPooling2D(pool_size=(2, 2)))\n",
    "model.add(Dropout(0.25))\n",
    "model.add(Flatten())\n",
    "model.add(Dense(512))\n",
    "model.add(Activation('relu'))\n",
    "model.add(Dropout(0.5))\n",
    "model.add(Dense(NB_CLASSES))\n",
    "model.add(Activation('softmax'))\n",
    "model.summary()"
   ]
  },
  {
   "cell_type": "code",
   "execution_count": 4,
   "metadata": {},
   "outputs": [
    {
     "name": "stdout",
     "output_type": "stream",
     "text": [
      "WARNING:tensorflow:From C:\\Users\\Business Intelli\\Anaconda3\\lib\\site-packages\\tensorflow\\python\\ops\\math_ops.py:3066: to_int32 (from tensorflow.python.ops.math_ops) is deprecated and will be removed in a future version.\n",
      "Instructions for updating:\n",
      "Use tf.cast instead.\n",
      "Train on 40000 samples, validate on 10000 samples\n",
      "Epoch 1/20\n",
      "40000/40000 [==============================] - 62s 2ms/step - loss: 1.7120 - acc: 0.3933 - val_loss: 1.3816 - val_acc: 0.5108\n",
      "Epoch 2/20\n",
      "40000/40000 [==============================] - 57s 1ms/step - loss: 1.3623 - acc: 0.5172 - val_loss: 1.2773 - val_acc: 0.5394\n",
      "Epoch 3/20\n",
      "40000/40000 [==============================] - 57s 1ms/step - loss: 1.2279 - acc: 0.5650 - val_loss: 1.1506 - val_acc: 0.5949\n",
      "Epoch 4/20\n",
      "40000/40000 [==============================] - 59s 1ms/step - loss: 1.1384 - acc: 0.5979 - val_loss: 1.1335 - val_acc: 0.6081\n",
      "Epoch 5/20\n",
      "40000/40000 [==============================] - 59s 1ms/step - loss: 1.0660 - acc: 0.6215 - val_loss: 1.1190 - val_acc: 0.6144\n",
      "Epoch 6/20\n",
      "40000/40000 [==============================] - 59s 1ms/step - loss: 1.0106 - acc: 0.6466 - val_loss: 1.0608 - val_acc: 0.6412\n",
      "Epoch 7/20\n",
      "40000/40000 [==============================] - 59s 1ms/step - loss: 0.9580 - acc: 0.6646 - val_loss: 1.0375 - val_acc: 0.6435\n",
      "Epoch 8/20\n",
      "40000/40000 [==============================] - 60s 1ms/step - loss: 0.9161 - acc: 0.6825 - val_loss: 1.0150 - val_acc: 0.6543\n",
      "Epoch 9/20\n",
      "40000/40000 [==============================] - 60s 2ms/step - loss: 0.8737 - acc: 0.6951 - val_loss: 1.1699 - val_acc: 0.6097\n",
      "Epoch 10/20\n",
      "40000/40000 [==============================] - 60s 1ms/step - loss: 0.8326 - acc: 0.7101 - val_loss: 1.0758 - val_acc: 0.6367\n",
      "Epoch 11/20\n",
      "40000/40000 [==============================] - 60s 2ms/step - loss: 0.7982 - acc: 0.7238 - val_loss: 1.1147 - val_acc: 0.6206\n",
      "Epoch 12/20\n",
      "40000/40000 [==============================] - 60s 2ms/step - loss: 0.7710 - acc: 0.7330 - val_loss: 1.0041 - val_acc: 0.6715\n",
      "Epoch 13/20\n",
      "40000/40000 [==============================] - 60s 2ms/step - loss: 0.7369 - acc: 0.7440 - val_loss: 1.0024 - val_acc: 0.6735\n",
      "Epoch 14/20\n",
      "40000/40000 [==============================] - 60s 2ms/step - loss: 0.7102 - acc: 0.7536 - val_loss: 1.0276 - val_acc: 0.6669\n",
      "Epoch 15/20\n",
      "40000/40000 [==============================] - 60s 2ms/step - loss: 0.6738 - acc: 0.7677 - val_loss: 1.0760 - val_acc: 0.6640\n",
      "Epoch 16/20\n",
      "40000/40000 [==============================] - 60s 2ms/step - loss: 0.6539 - acc: 0.7745 - val_loss: 1.0061 - val_acc: 0.6770\n",
      "Epoch 17/20\n",
      "40000/40000 [==============================] - 60s 1ms/step - loss: 0.6357 - acc: 0.7822 - val_loss: 1.0647 - val_acc: 0.6696\n",
      "Epoch 18/20\n",
      "40000/40000 [==============================] - 60s 2ms/step - loss: 0.6104 - acc: 0.7897 - val_loss: 1.0195 - val_acc: 0.6817\n",
      "Epoch 19/20\n",
      "40000/40000 [==============================] - 59s 1ms/step - loss: 0.5984 - acc: 0.7946 - val_loss: 1.0380 - val_acc: 0.6754\n",
      "Epoch 20/20\n",
      "40000/40000 [==============================] - 59s 1ms/step - loss: 0.5743 - acc: 0.8028 - val_loss: 1.1213 - val_acc: 0.6653\n",
      "10000/10000 [==============================] - 5s 454us/step\n",
      "Test score: 1.1098144397735596\n",
      "Test accuracy: 0.6571\n"
     ]
    }
   ],
   "source": [
    "# train\n",
    "model.compile(loss='categorical_crossentropy', optimizer=OPTIM,\n",
    "metrics=['accuracy'])\n",
    "model.fit(X_train, Y_train, batch_size=BATCH_SIZE,\n",
    "epochs=NB_EPOCH, validation_split=VALIDATION_SPLIT,\n",
    "verbose=VERBOSE)\n",
    "score = model.evaluate(X_test, Y_test,\n",
    "batch_size=BATCH_SIZE, verbose=VERBOSE)\n",
    "print(\"Test score:\", score[0])\n",
    "print('Test accuracy:', score[1])"
   ]
  },
  {
   "cell_type": "code",
   "execution_count": null,
   "metadata": {},
   "outputs": [],
   "source": [
    "epochs = range(1, len(acc) + 1)\n",
    "plt.plot(epochs, \"acc\", \"bo\", label = \"Training acc\")\n",
    "plt.plot(epochs, \"val_acc\", \"b\", label = \"Validation acc\" )\n",
    "plt.title(\"Training and Validation Accuracy\")\n",
    "plt.legend()\n",
    "\n",
    "plt.figure()"
   ]
  }
 ],
 "metadata": {
  "kernelspec": {
   "display_name": "Python 3",
   "language": "python",
   "name": "python3"
  },
  "language_info": {
   "codemirror_mode": {
    "name": "ipython",
    "version": 3
   },
   "file_extension": ".py",
   "mimetype": "text/x-python",
   "name": "python",
   "nbconvert_exporter": "python",
   "pygments_lexer": "ipython3",
   "version": "3.7.3"
  }
 },
 "nbformat": 4,
 "nbformat_minor": 2
}
